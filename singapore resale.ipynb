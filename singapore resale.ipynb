{
 "cells": [
  {
   "cell_type": "markdown",
   "id": "c7b9846e-b7d6-43a3-92fe-bd3b95fe61ac",
   "metadata": {},
   "source": [
    "OBJECTIVE\n",
    "The objective of this project is to develop a machinelearning model and deploy it as a user-friendly web application that predicts the resale prices of flats in Singapore. This predictive model will be based on historical data of resale flat transactions, and it aims to assist both potential buyers and sellers in estimating the resalevalue of a flat."
   ]
  },
  {
   "cell_type": "code",
   "execution_count": 1,
   "id": "a116cd83-c1bd-48c8-a8a2-82edc1754ca7",
   "metadata": {},
   "outputs": [],
   "source": [
    "#Cleaning the data and training the model"
   ]
  },
  {
   "cell_type": "code",
   "execution_count": 2,
   "id": "8eb3a57d-ad85-4f4a-9f43-f8731c9d2ec7",
   "metadata": {},
   "outputs": [],
   "source": [
    "# Importing the requried libraries\n",
    "import pandas as pd\n",
    "import numpy as np\n",
    "import seaborn as sns\n",
    "import matplotlib.pyplot as plt\n",
    "from sklearn import preprocessing\n",
    "import warnings\n",
    "warnings.filterwarnings(\"ignore\")"
   ]
  },
  {
   "cell_type": "code",
   "execution_count": 3,
   "id": "8ada8103-abac-4761-ad33-7e187c428df4",
   "metadata": {},
   "outputs": [],
   "source": [
    "# Reading the csv data as dataframes\n",
    "df1=pd.read_csv(r\"C:\\Users\\91701\\Downloads\\ResaleFlatPricesBasedonApprovalDate19901999.csv\")\n",
    "df2=pd.read_csv(r\"C:\\Users\\91701\\Downloads\\ResaleFlatPricesBasedonApprovalDate2000Feb2012.csv\")\n",
    "df3=pd.read_csv(r\"C:\\Users\\91701\\Downloads\\ResaleFlatPricesBasedonRegistrationDateFromJan2015toDec2016.csv\")\n",
    "df4=pd.read_csv(r\"C:\\Users\\91701\\Downloads\\ResaleFlatPricesBasedonRegistrationDateFromMar2012toDec2014.csv\")\n",
    "df5=pd.read_csv(r\"C:\\Users\\91701\\Downloads\\ResaleflatpricesbasedonregistrationdatefromJan2017onwards.csv\")"
   ]
  },
  {
   "cell_type": "code",
   "execution_count": 5,
   "id": "133585fb-9e59-4f15-8c0a-c4cafa1b67ed",
   "metadata": {},
   "outputs": [],
   "source": [
    "#identify the shape"
   ]
  },
  {
   "cell_type": "code",
   "execution_count": 4,
   "id": "20255bb3-0ea4-4b0b-9caa-762bc2d6f738",
   "metadata": {},
   "outputs": [
    {
     "name": "stdout",
     "output_type": "stream",
     "text": [
      "(287196, 10)\n",
      "(369651, 10)\n",
      "(37153, 11)\n",
      "(52203, 10)\n",
      "(174038, 11)\n"
     ]
    }
   ],
   "source": [
    "dfs=[df1,df2,df3,df4,df5]\n",
    "for i in dfs:\n",
    "    print(i.shape)"
   ]
  },
  {
   "cell_type": "code",
   "execution_count": 6,
   "id": "7ba3c356-66fe-4265-a248-5912a5390052",
   "metadata": {},
   "outputs": [],
   "source": [
    "#concating all the date \n",
    "df=pd.concat([df1,df2,df3,df4,df5],ignore_index=True)"
   ]
  },
  {
   "cell_type": "code",
   "execution_count": 7,
   "id": "efd313e9-c3ea-498a-9c8b-1de006dd2875",
   "metadata": {},
   "outputs": [],
   "source": [
    "#Understanding the data and cleaning"
   ]
  },
  {
   "cell_type": "code",
   "execution_count": 8,
   "id": "e3a2901f-b27c-4e14-802c-1780304af4ab",
   "metadata": {},
   "outputs": [
    {
     "data": {
      "text/html": [
       "<div>\n",
       "<style scoped>\n",
       "    .dataframe tbody tr th:only-of-type {\n",
       "        vertical-align: middle;\n",
       "    }\n",
       "\n",
       "    .dataframe tbody tr th {\n",
       "        vertical-align: top;\n",
       "    }\n",
       "\n",
       "    .dataframe thead th {\n",
       "        text-align: right;\n",
       "    }\n",
       "</style>\n",
       "<table border=\"1\" class=\"dataframe\">\n",
       "  <thead>\n",
       "    <tr style=\"text-align: right;\">\n",
       "      <th></th>\n",
       "      <th>month</th>\n",
       "      <th>town</th>\n",
       "      <th>flat_type</th>\n",
       "      <th>block</th>\n",
       "      <th>street_name</th>\n",
       "      <th>storey_range</th>\n",
       "      <th>floor_area_sqm</th>\n",
       "      <th>flat_model</th>\n",
       "      <th>lease_commence_date</th>\n",
       "      <th>resale_price</th>\n",
       "      <th>remaining_lease</th>\n",
       "    </tr>\n",
       "  </thead>\n",
       "  <tbody>\n",
       "    <tr>\n",
       "      <th>0</th>\n",
       "      <td>1990-01</td>\n",
       "      <td>ANG MO KIO</td>\n",
       "      <td>1 ROOM</td>\n",
       "      <td>309</td>\n",
       "      <td>ANG MO KIO AVE 1</td>\n",
       "      <td>10 TO 12</td>\n",
       "      <td>31.0</td>\n",
       "      <td>IMPROVED</td>\n",
       "      <td>1977</td>\n",
       "      <td>9000.0</td>\n",
       "      <td>NaN</td>\n",
       "    </tr>\n",
       "    <tr>\n",
       "      <th>1</th>\n",
       "      <td>1990-01</td>\n",
       "      <td>ANG MO KIO</td>\n",
       "      <td>1 ROOM</td>\n",
       "      <td>309</td>\n",
       "      <td>ANG MO KIO AVE 1</td>\n",
       "      <td>04 TO 06</td>\n",
       "      <td>31.0</td>\n",
       "      <td>IMPROVED</td>\n",
       "      <td>1977</td>\n",
       "      <td>6000.0</td>\n",
       "      <td>NaN</td>\n",
       "    </tr>\n",
       "    <tr>\n",
       "      <th>2</th>\n",
       "      <td>1990-01</td>\n",
       "      <td>ANG MO KIO</td>\n",
       "      <td>1 ROOM</td>\n",
       "      <td>309</td>\n",
       "      <td>ANG MO KIO AVE 1</td>\n",
       "      <td>10 TO 12</td>\n",
       "      <td>31.0</td>\n",
       "      <td>IMPROVED</td>\n",
       "      <td>1977</td>\n",
       "      <td>8000.0</td>\n",
       "      <td>NaN</td>\n",
       "    </tr>\n",
       "    <tr>\n",
       "      <th>3</th>\n",
       "      <td>1990-01</td>\n",
       "      <td>ANG MO KIO</td>\n",
       "      <td>1 ROOM</td>\n",
       "      <td>309</td>\n",
       "      <td>ANG MO KIO AVE 1</td>\n",
       "      <td>07 TO 09</td>\n",
       "      <td>31.0</td>\n",
       "      <td>IMPROVED</td>\n",
       "      <td>1977</td>\n",
       "      <td>6000.0</td>\n",
       "      <td>NaN</td>\n",
       "    </tr>\n",
       "    <tr>\n",
       "      <th>4</th>\n",
       "      <td>1990-01</td>\n",
       "      <td>ANG MO KIO</td>\n",
       "      <td>3 ROOM</td>\n",
       "      <td>216</td>\n",
       "      <td>ANG MO KIO AVE 1</td>\n",
       "      <td>04 TO 06</td>\n",
       "      <td>73.0</td>\n",
       "      <td>NEW GENERATION</td>\n",
       "      <td>1976</td>\n",
       "      <td>47200.0</td>\n",
       "      <td>NaN</td>\n",
       "    </tr>\n",
       "  </tbody>\n",
       "</table>\n",
       "</div>"
      ],
      "text/plain": [
       "     month        town flat_type block       street_name storey_range  \\\n",
       "0  1990-01  ANG MO KIO    1 ROOM   309  ANG MO KIO AVE 1     10 TO 12   \n",
       "1  1990-01  ANG MO KIO    1 ROOM   309  ANG MO KIO AVE 1     04 TO 06   \n",
       "2  1990-01  ANG MO KIO    1 ROOM   309  ANG MO KIO AVE 1     10 TO 12   \n",
       "3  1990-01  ANG MO KIO    1 ROOM   309  ANG MO KIO AVE 1     07 TO 09   \n",
       "4  1990-01  ANG MO KIO    3 ROOM   216  ANG MO KIO AVE 1     04 TO 06   \n",
       "\n",
       "   floor_area_sqm      flat_model  lease_commence_date  resale_price  \\\n",
       "0            31.0        IMPROVED                 1977        9000.0   \n",
       "1            31.0        IMPROVED                 1977        6000.0   \n",
       "2            31.0        IMPROVED                 1977        8000.0   \n",
       "3            31.0        IMPROVED                 1977        6000.0   \n",
       "4            73.0  NEW GENERATION                 1976       47200.0   \n",
       "\n",
       "  remaining_lease  \n",
       "0             NaN  \n",
       "1             NaN  \n",
       "2             NaN  \n",
       "3             NaN  \n",
       "4             NaN  "
      ]
     },
     "execution_count": 8,
     "metadata": {},
     "output_type": "execute_result"
    }
   ],
   "source": [
    "# Displaying the data\n",
    "df.head()"
   ]
  },
  {
   "cell_type": "code",
   "execution_count": 9,
   "id": "6ad79e29-819d-40bd-b2da-b8026f669ad4",
   "metadata": {},
   "outputs": [
    {
     "data": {
      "text/html": [
       "<div>\n",
       "<style scoped>\n",
       "    .dataframe tbody tr th:only-of-type {\n",
       "        vertical-align: middle;\n",
       "    }\n",
       "\n",
       "    .dataframe tbody tr th {\n",
       "        vertical-align: top;\n",
       "    }\n",
       "\n",
       "    .dataframe thead th {\n",
       "        text-align: right;\n",
       "    }\n",
       "</style>\n",
       "<table border=\"1\" class=\"dataframe\">\n",
       "  <thead>\n",
       "    <tr style=\"text-align: right;\">\n",
       "      <th></th>\n",
       "      <th>month</th>\n",
       "      <th>town</th>\n",
       "      <th>flat_type</th>\n",
       "      <th>block</th>\n",
       "      <th>street_name</th>\n",
       "      <th>storey_range</th>\n",
       "      <th>floor_area_sqm</th>\n",
       "      <th>flat_model</th>\n",
       "      <th>lease_commence_date</th>\n",
       "      <th>resale_price</th>\n",
       "      <th>remaining_lease</th>\n",
       "    </tr>\n",
       "  </thead>\n",
       "  <tbody>\n",
       "    <tr>\n",
       "      <th>920236</th>\n",
       "      <td>2024-03</td>\n",
       "      <td>YISHUN</td>\n",
       "      <td>4 ROOM</td>\n",
       "      <td>513D</td>\n",
       "      <td>YISHUN ST 51</td>\n",
       "      <td>13 TO 15</td>\n",
       "      <td>93.0</td>\n",
       "      <td>Model A</td>\n",
       "      <td>2018</td>\n",
       "      <td>570000.0</td>\n",
       "      <td>93 years 01 month</td>\n",
       "    </tr>\n",
       "    <tr>\n",
       "      <th>920237</th>\n",
       "      <td>2024-03</td>\n",
       "      <td>YISHUN</td>\n",
       "      <td>4 ROOM</td>\n",
       "      <td>841</td>\n",
       "      <td>YISHUN ST 81</td>\n",
       "      <td>01 TO 03</td>\n",
       "      <td>104.0</td>\n",
       "      <td>Model A</td>\n",
       "      <td>1988</td>\n",
       "      <td>575000.0</td>\n",
       "      <td>62 years 11 months</td>\n",
       "    </tr>\n",
       "    <tr>\n",
       "      <th>920238</th>\n",
       "      <td>2024-03</td>\n",
       "      <td>YISHUN</td>\n",
       "      <td>5 ROOM</td>\n",
       "      <td>428A</td>\n",
       "      <td>YISHUN AVE 11</td>\n",
       "      <td>04 TO 06</td>\n",
       "      <td>112.0</td>\n",
       "      <td>Improved</td>\n",
       "      <td>2015</td>\n",
       "      <td>663000.0</td>\n",
       "      <td>90 years 01 month</td>\n",
       "    </tr>\n",
       "    <tr>\n",
       "      <th>920239</th>\n",
       "      <td>2024-03</td>\n",
       "      <td>YISHUN</td>\n",
       "      <td>5 ROOM</td>\n",
       "      <td>637</td>\n",
       "      <td>YISHUN ST 61</td>\n",
       "      <td>10 TO 12</td>\n",
       "      <td>121.0</td>\n",
       "      <td>Improved</td>\n",
       "      <td>1987</td>\n",
       "      <td>680000.0</td>\n",
       "      <td>62 years 08 months</td>\n",
       "    </tr>\n",
       "    <tr>\n",
       "      <th>920240</th>\n",
       "      <td>2024-03</td>\n",
       "      <td>YISHUN</td>\n",
       "      <td>EXECUTIVE</td>\n",
       "      <td>791</td>\n",
       "      <td>YISHUN AVE 2</td>\n",
       "      <td>10 TO 12</td>\n",
       "      <td>146.0</td>\n",
       "      <td>Apartment</td>\n",
       "      <td>1987</td>\n",
       "      <td>851888.0</td>\n",
       "      <td>62 years 07 months</td>\n",
       "    </tr>\n",
       "  </tbody>\n",
       "</table>\n",
       "</div>"
      ],
      "text/plain": [
       "          month    town  flat_type block    street_name storey_range  \\\n",
       "920236  2024-03  YISHUN     4 ROOM  513D   YISHUN ST 51     13 TO 15   \n",
       "920237  2024-03  YISHUN     4 ROOM   841   YISHUN ST 81     01 TO 03   \n",
       "920238  2024-03  YISHUN     5 ROOM  428A  YISHUN AVE 11     04 TO 06   \n",
       "920239  2024-03  YISHUN     5 ROOM   637   YISHUN ST 61     10 TO 12   \n",
       "920240  2024-03  YISHUN  EXECUTIVE   791   YISHUN AVE 2     10 TO 12   \n",
       "\n",
       "        floor_area_sqm flat_model  lease_commence_date  resale_price  \\\n",
       "920236            93.0    Model A                 2018      570000.0   \n",
       "920237           104.0    Model A                 1988      575000.0   \n",
       "920238           112.0   Improved                 2015      663000.0   \n",
       "920239           121.0   Improved                 1987      680000.0   \n",
       "920240           146.0  Apartment                 1987      851888.0   \n",
       "\n",
       "           remaining_lease  \n",
       "920236   93 years 01 month  \n",
       "920237  62 years 11 months  \n",
       "920238   90 years 01 month  \n",
       "920239  62 years 08 months  \n",
       "920240  62 years 07 months  "
      ]
     },
     "execution_count": 9,
     "metadata": {},
     "output_type": "execute_result"
    }
   ],
   "source": [
    "# Displaying the data\n",
    "df.tail()"
   ]
  },
  {
   "cell_type": "code",
   "execution_count": 11,
   "id": "0f07708b-018f-4d4a-a71e-828eb9743462",
   "metadata": {},
   "outputs": [
    {
     "data": {
      "text/plain": [
       "(920241, 11)"
      ]
     },
     "execution_count": 11,
     "metadata": {},
     "output_type": "execute_result"
    }
   ],
   "source": [
    "# Shape of the data\n",
    "df.shape"
   ]
  },
  {
   "cell_type": "code",
   "execution_count": 15,
   "id": "a067309c-2bcd-4620-9569-b4f792370102",
   "metadata": {},
   "outputs": [
    {
     "name": "stdout",
     "output_type": "stream",
     "text": [
      "<class 'pandas.core.frame.DataFrame'>\n",
      "RangeIndex: 920241 entries, 0 to 920240\n",
      "Data columns (total 11 columns):\n",
      " #   Column               Non-Null Count   Dtype  \n",
      "---  ------               --------------   -----  \n",
      " 0   month                920241 non-null  object \n",
      " 1   town                 920241 non-null  object \n",
      " 2   flat_type            920241 non-null  object \n",
      " 3   block                920241 non-null  object \n",
      " 4   street_name          920241 non-null  object \n",
      " 5   storey_range         920241 non-null  object \n",
      " 6   floor_area_sqm       920241 non-null  float64\n",
      " 7   flat_model           920241 non-null  object \n",
      " 8   lease_commence_date  920241 non-null  int64  \n",
      " 9   resale_price         920241 non-null  float64\n",
      " 10  remaining_lease      211191 non-null  object \n",
      "dtypes: float64(2), int64(1), object(8)\n",
      "memory usage: 77.2+ MB\n"
     ]
    }
   ],
   "source": [
    "#information on datatypes\n",
    "df.info()"
   ]
  },
  {
   "cell_type": "code",
   "execution_count": 16,
   "id": "2caad79e-dbbc-4756-ae6b-04d1fb4f95bb",
   "metadata": {},
   "outputs": [
    {
     "name": "stdout",
     "output_type": "stream",
     "text": [
      "month : 411 labels\n",
      "town : 27 labels\n",
      "flat_type : 8 labels\n",
      "block : 2706 labels\n",
      "street_name : 584 labels\n",
      "storey_range : 25 labels\n",
      "floor_area_sqm : 211 labels\n",
      "flat_model : 34 labels\n",
      "lease_commence_date : 56 labels\n",
      "resale_price : 9415 labels\n",
      "remaining_lease : 722 labels\n"
     ]
    }
   ],
   "source": [
    "#unique values in data\n",
    "\n",
    "for col in df.columns[0:]:\n",
    "    print(col, \":\" , (df[col].nunique()), \"labels\")"
   ]
  },
  {
   "cell_type": "code",
   "execution_count": 17,
   "id": "640812a0-4fa6-4472-9e3e-f80044fc6017",
   "metadata": {},
   "outputs": [
    {
     "data": {
      "text/plain": [
       "month                       0\n",
       "town                        0\n",
       "flat_type                   0\n",
       "block                       0\n",
       "street_name                 0\n",
       "storey_range                0\n",
       "floor_area_sqm              0\n",
       "flat_model                  0\n",
       "lease_commence_date         0\n",
       "resale_price                0\n",
       "remaining_lease        709050\n",
       "dtype: int64"
      ]
     },
     "execution_count": 17,
     "metadata": {},
     "output_type": "execute_result"
    }
   ],
   "source": [
    "# Null values\n",
    "df.isna().sum()"
   ]
  },
  {
   "cell_type": "code",
   "execution_count": 18,
   "id": "d2e031df-8351-4b59-94b1-e7efef315310",
   "metadata": {},
   "outputs": [],
   "source": [
    "#Droping the 'remaining_lease' column as majority of the rows lacks this value(data is available only from 2015)"
   ]
  },
  {
   "cell_type": "code",
   "execution_count": 24,
   "id": "8c4af937-2b67-454f-93ac-70152cef5f00",
   "metadata": {},
   "outputs": [],
   "source": [
    "# Droping the column as mojority of the data is null\n",
    "#removed   df=df.drop(columns=\"remaining_lease\")"
   ]
  },
  {
   "cell_type": "code",
   "execution_count": 25,
   "id": "86e0200a-0ae5-43eb-a339-53cd9946cb9a",
   "metadata": {},
   "outputs": [
    {
     "data": {
      "text/plain": [
       "month                  0\n",
       "town                   0\n",
       "flat_type              0\n",
       "block                  0\n",
       "street_name            0\n",
       "storey_range           0\n",
       "floor_area_sqm         0\n",
       "flat_model             0\n",
       "lease_commence_date    0\n",
       "resale_price           0\n",
       "dtype: int64"
      ]
     },
     "execution_count": 25,
     "metadata": {},
     "output_type": "execute_result"
    }
   ],
   "source": [
    "# After droping the column\n",
    "df.isna().sum()"
   ]
  },
  {
   "cell_type": "code",
   "execution_count": 27,
   "id": "66ae7b03-66ae-4d72-b1cd-303b6efe20eb",
   "metadata": {},
   "outputs": [
    {
     "data": {
      "image/png": "[encoded data removed]",
      "text/plain": [
       "<Figure size 640x480 with 1 Axes>"
      ]
     },
     "metadata": {},
     "output_type": "display_data"
    }
   ],
   "source": [
    "# Visualize the distribution of the resale price column\n",
    "sns.distplot(df[\"resale_price\"],bins=20)\n",
    "plt.title(\"distribution of resale price\")\n",
    "plt.show()"
   ]
  },
  {
   "cell_type": "code",
   "execution_count": 28,
   "id": "b357efad-be1d-4ec5-8083-30f092385fb7",
   "metadata": {},
   "outputs": [],
   "source": [
    "#Dealing with Features"
   ]
  },
  {
   "cell_type": "code",
   "execution_count": 29,
   "id": "763f8b31-5530-465f-b39f-bf2eb035d4e5",
   "metadata": {},
   "outputs": [],
   "source": [
    "#flat_type column\n",
    "#Collapsing flat type categories\n"
   ]
  },
  {
   "cell_type": "code",
   "execution_count": 30,
   "id": "f7fa32e4-f750-45f6-adaa-6ad215ceafb1",
   "metadata": {},
   "outputs": [
    {
     "data": {
      "text/plain": [
       "flat_type\n",
       "4 ROOM              349415\n",
       "3 ROOM              294261\n",
       "5 ROOM              193854\n",
       "EXECUTIVE            69235\n",
       "2 ROOM               11634\n",
       "1 ROOM                1300\n",
       "MULTI GENERATION       279\n",
       "MULTI-GENERATION       263\n",
       "Name: count, dtype: int64"
      ]
     },
     "execution_count": 30,
     "metadata": {},
     "output_type": "execute_result"
    }
   ],
   "source": [
    "df[\"flat_type\"].value_counts()"
   ]
  },
  {
   "cell_type": "code",
   "execution_count": 31,
   "id": "bea72ad3-4610-4a78-b7e2-0a764da18f71",
   "metadata": {},
   "outputs": [
    {
     "data": {
      "text/plain": [
       "array(['1 ROOM', '3 ROOM', '4 ROOM', '5 ROOM', '2 ROOM', 'EXECUTIVE',\n",
       "       'MULTI GENERATION', 'MULTI-GENERATION'], dtype=object)"
      ]
     },
     "execution_count": 31,
     "metadata": {},
     "output_type": "execute_result"
    }
   ],
   "source": [
    "# Unique lables in flat_type column\n",
    "df[\"flat_type\"].unique()"
   ]
  },
  {
   "cell_type": "code",
   "execution_count": 33,
   "id": "b9b74a06-bba0-47fb-ac77-7f4aa6b77eb3",
   "metadata": {},
   "outputs": [
    {
     "data": {
      "text/plain": [
       "array(['1 ROOM', '3 ROOM', '4 ROOM', '5 ROOM', '2 ROOM', 'EXECUTIVE',\n",
       "       'MULTI GENERATION'], dtype=object)"
      ]
     },
     "execution_count": 33,
     "metadata": {},
     "output_type": "execute_result"
    }
   ],
   "source": [
    "mapping={\"MULTI-GENERATION\" : \"MULTI GENERATION\"}\n",
    "df[\"flat_type\"] = df[\"flat_type\"].replace(mapping)\n",
    "df[\"flat_type\"].unique()"
   ]
  },
  {
   "cell_type": "code",
   "execution_count": 35,
   "id": "14980dc3-e54a-4a26-b118-23fe94efe4bb",
   "metadata": {},
   "outputs": [
    {
     "data": {
      "image/png": "[encoded data removed]",
      "text/plain": [
       "<Figure size 640x480 with 1 Axes>"
      ]
     },
     "metadata": {},
     "output_type": "display_data"
    }
   ],
   "source": [
    "# Visualize relationship between price and flat_type\n",
    "sns.boxplot(x = df['flat_type'], y = df['resale_price'])\n",
    "plt.xlabel('Flat Type')\n",
    "plt.ylabel('Price')\n",
    "plt.show()"
   ]
  },
  {
   "cell_type": "code",
   "execution_count": 36,
   "id": "a392a30a-4cc0-4a1b-be77-884f13817e11",
   "metadata": {},
   "outputs": [],
   "source": [
    "#Encoding the flat type categories"
   ]
  },
  {
   "cell_type": "code",
   "execution_count": 39,
   "id": "03393bb3-821f-4d85-8390-f23f4b2c05b5",
   "metadata": {},
   "outputs": [
    {
     "data": {
      "text/plain": [
       "flat_type\n",
       "4    349415\n",
       "3    294261\n",
       "5    193854\n",
       "6     69235\n",
       "2     11634\n",
       "1      1300\n",
       "7       542\n",
       "Name: count, dtype: int64"
      ]
     },
     "execution_count": 39,
     "metadata": {},
     "output_type": "execute_result"
    }
   ],
   "source": [
    "# Assigning the value-pairs to be replaced\n",
    "\n",
    "cat = {\"1 ROOM\" : 1,\n",
    "       \"3 ROOM\": 3,\n",
    "       \"4 ROOM\" : 4,\n",
    "       \"5 ROOM\" : 5,\n",
    "       \"2 ROOM\" : 2,\n",
    "       \"EXECUTIVE\" : 6,\n",
    "       \"MULTI GENERATION\" :7}\n",
    "df[\"flat_type\"] = df[\"flat_type\"].replace(cat)\n",
    "df[\"flat_type\"].value_counts()"
   ]
  },
  {
   "cell_type": "code",
   "execution_count": 40,
   "id": "42e8f6c6-83cc-42ef-a5ff-6bc236be1c46",
   "metadata": {},
   "outputs": [],
   "source": [
    "#Dealing with collapsed flat model categories"
   ]
  },
  {
   "cell_type": "code",
   "execution_count": 41,
   "id": "0e5a7341-4679-489f-9b14-8a33472b04bb",
   "metadata": {},
   "outputs": [
    {
     "name": "stdout",
     "output_type": "stream",
     "text": [
      "34\n"
     ]
    },
    {
     "data": {
      "text/plain": [
       "array(['IMPROVED', 'NEW GENERATION', 'MODEL A', 'STANDARD', 'SIMPLIFIED',\n",
       "       'MODEL A-MAISONETTE', 'APARTMENT', 'MAISONETTE', 'TERRACE',\n",
       "       '2-ROOM', 'IMPROVED-MAISONETTE', 'MULTI GENERATION',\n",
       "       'PREMIUM APARTMENT', 'Improved', 'New Generation', 'Model A',\n",
       "       'Standard', 'Apartment', 'Simplified', 'Model A-Maisonette',\n",
       "       'Maisonette', 'Multi Generation', 'Adjoined flat',\n",
       "       'Premium Apartment', 'Terrace', 'Improved-Maisonette',\n",
       "       'Premium Maisonette', '2-room', 'Model A2', 'Type S1', 'Type S2',\n",
       "       'DBSS', 'Premium Apartment Loft', '3Gen'], dtype=object)"
      ]
     },
     "execution_count": 41,
     "metadata": {},
     "output_type": "execute_result"
    }
   ],
   "source": [
    "# Flat_model column\n",
    "print(df['flat_model'].nunique())\n",
    "df['flat_model'].unique()"
   ]
  },
  {
   "cell_type": "code",
   "execution_count": 44,
   "id": "65daaf81-e84c-478f-a057-63c3f8548fad",
   "metadata": {},
   "outputs": [
    {
     "data": {
      "text/plain": [
       "array(['improved', 'new generation', 'model a', 'standard', 'simplified',\n",
       "       'model a-maisonette', 'apartment', 'maisonette', 'terrace',\n",
       "       '2-room', 'improved-maisonette', 'multi generation',\n",
       "       'premium apartment', 'adjoined flat', 'premium maisonette',\n",
       "       'model a2', 'type s1', 'type s2', 'dbss', 'premium apartment loft',\n",
       "       '3gen'], dtype=object)"
      ]
     },
     "execution_count": 44,
     "metadata": {},
     "output_type": "execute_result"
    }
   ],
   "source": [
    "# Deal with capitalized value\n",
    "df[\"flat_model\"] = df[\"flat_model\"].str.lower()\n",
    "df[\"flat_model\"].unique()"
   ]
  },
  {
   "cell_type": "code",
   "execution_count": 45,
   "id": "8d72f9e8-c5a5-4003-a15f-297fcc3d832e",
   "metadata": {},
   "outputs": [
    {
     "data": {
      "text/plain": [
       "flat_model\n",
       "model a                   262403\n",
       "improved                  240163\n",
       "new generation            188187\n",
       "simplified                 57302\n",
       "premium apartment          46102\n",
       "standard                   42376\n",
       "apartment                  35260\n",
       "maisonette                 29502\n",
       "model a2                   10065\n",
       "dbss                        3238\n",
       "model a-maisonette          2065\n",
       "adjoined flat               1238\n",
       "terrace                      690\n",
       "multi generation             542\n",
       "type s1                      431\n",
       "type s2                      214\n",
       "improved-maisonette          125\n",
       "2-room                       118\n",
       "premium apartment loft       107\n",
       "premium maisonette            86\n",
       "3gen                          27\n",
       "Name: count, dtype: int64"
      ]
     },
     "execution_count": 45,
     "metadata": {},
     "output_type": "execute_result"
    }
   ],
   "source": [
    "# Number of unique lables in flat model after dealing with capitalized values\n",
    "df[\"flat_model\"].value_counts()"
   ]
  },
  {
   "cell_type": "code",
   "execution_count": 49,
   "id": "3d401264-da2a-4bc6-86c9-6392d1050287",
   "metadata": {},
   "outputs": [],
   "source": [
    "# Encoding flat_model column\n",
    "le = preprocessing.LabelEncoder()\n",
    "\n",
    "flat_modelcode = le.fit_transform(df[\"flat_model\"])\n",
    "df.insert(loc = 8,\n",
    "          column = \"flat_modelcode\",\n",
    "          value = flat_modelcode)\n"
   ]
  },
  {
   "cell_type": "code",
   "execution_count": 50,
   "id": "bacf7bc7-e611-4054-be1b-4bb9715996bc",
   "metadata": {},
   "outputs": [
    {
     "data": {
      "text/plain": [
       "flat_modelcode\n",
       "8     262403\n",
       "5     240163\n",
       "12    188187\n",
       "16     57302\n",
       "13     46102\n",
       "17     42376\n",
       "3      35260\n",
       "7      29502\n",
       "10     10065\n",
       "4       3238\n",
       "9       2065\n",
       "2       1238\n",
       "18       690\n",
       "11       542\n",
       "19       431\n",
       "20       214\n",
       "6        125\n",
       "0        118\n",
       "14       107\n",
       "15        86\n",
       "1         27\n",
       "Name: count, dtype: int64"
      ]
     },
     "execution_count": 50,
     "metadata": {},
     "output_type": "execute_result"
    }
   ],
   "source": [
    "df[\"flat_modelcode\"].value_counts()"
   ]
  },
  {
   "cell_type": "code",
   "execution_count": 51,
   "id": "cb450c21-f299-49f6-bf3f-81f43e3842a0",
   "metadata": {},
   "outputs": [],
   "source": [
    "#Other features preparation"
   ]
  },
  {
   "cell_type": "code",
   "execution_count": 52,
   "id": "2976328c-bd12-4968-b949-31618b4af05c",
   "metadata": {},
   "outputs": [
    {
     "data": {
      "text/plain": [
       "27"
      ]
     },
     "execution_count": 52,
     "metadata": {},
     "output_type": "execute_result"
    }
   ],
   "source": [
    "# Town column \n",
    "df['town'].nunique()"
   ]
  },
  {
   "cell_type": "code",
   "execution_count": 53,
   "id": "620df624-aa0b-4d7e-b2dd-7485c639294b",
   "metadata": {},
   "outputs": [
    {
     "data": {
      "text/plain": [
       "town\n",
       "TAMPINES           79459\n",
       "YISHUN             69609\n",
       "BEDOK              66305\n",
       "JURONG WEST        66191\n",
       "WOODLANDS          65050\n",
       "ANG MO KIO         51833\n",
       "HOUGANG            50369\n",
       "BUKIT BATOK        43977\n",
       "CHOA CHU KANG      37979\n",
       "BUKIT MERAH        34091\n",
       "PASIR RIS          33056\n",
       "SENGKANG           32000\n",
       "TOA PAYOH          31355\n",
       "QUEENSTOWN         28606\n",
       "GEYLANG            28029\n",
       "CLEMENTI           27899\n",
       "BUKIT PANJANG      27484\n",
       "KALLANG/WHAMPOA    26957\n",
       "JURONG EAST        24633\n",
       "SERANGOON          22714\n",
       "BISHAN             21174\n",
       "PUNGGOL            20173\n",
       "SEMBAWANG          13629\n",
       "MARINE PARADE       8005\n",
       "CENTRAL AREA        7097\n",
       "BUKIT TIMAH         2503\n",
       "LIM CHU KANG          64\n",
       "Name: count, dtype: int64"
      ]
     },
     "execution_count": 53,
     "metadata": {},
     "output_type": "execute_result"
    }
   ],
   "source": [
    "df['town'].value_counts()"
   ]
  },
  {
   "cell_type": "code",
   "execution_count": 54,
   "id": "dd1d56c9-cb62-4851-9791-b607d29becf9",
   "metadata": {},
   "outputs": [],
   "source": [
    "# Creating a column with encoded value\n",
    "town_code = le.fit_transform(df['town'])\n",
    "df.insert(loc = 2,\n",
    "          column = 'town_code',\n",
    "          value = town_code)"
   ]
  },
  {
   "cell_type": "code",
   "execution_count": 55,
   "id": "a544665d-cbfc-4066-bbf0-3878468ec451",
   "metadata": {},
   "outputs": [
    {
     "data": {
      "text/plain": [
       "town_code\n",
       "23    79459\n",
       "26    69609\n",
       "1     66305\n",
       "13    66191\n",
       "25    65050\n",
       "0     51833\n",
       "11    50369\n",
       "3     43977\n",
       "8     37979\n",
       "4     34091\n",
       "17    33056\n",
       "21    32000\n",
       "24    31355\n",
       "19    28606\n",
       "10    28029\n",
       "9     27899\n",
       "5     27484\n",
       "14    26957\n",
       "12    24633\n",
       "22    22714\n",
       "2     21174\n",
       "18    20173\n",
       "20    13629\n",
       "16     8005\n",
       "7      7097\n",
       "6      2503\n",
       "15       64\n",
       "Name: count, dtype: int64"
      ]
     },
     "execution_count": 55,
     "metadata": {},
     "output_type": "execute_result"
    }
   ],
   "source": [
    "# Encoded value count\n",
    "df['town_code'].value_counts()"
   ]
  },
  {
   "cell_type": "code",
   "execution_count": 56,
   "id": "370f1ba2-2bde-4f4c-91a8-c2fc1856eaab",
   "metadata": {},
   "outputs": [],
   "source": [
    "#Dividing the columns"
   ]
  },
  {
   "cell_type": "code",
   "execution_count": 57,
   "id": "8e1636a5-2a42-4c12-8492-f6b4b5753d2f",
   "metadata": {},
   "outputs": [
    {
     "data": {
      "text/plain": [
       "0    10 TO 12\n",
       "1    04 TO 06\n",
       "2    10 TO 12\n",
       "3    07 TO 09\n",
       "4    04 TO 06\n",
       "Name: storey_range, dtype: object"
      ]
     },
     "execution_count": 57,
     "metadata": {},
     "output_type": "execute_result"
    }
   ],
   "source": [
    "# print header of colums\n",
    "df[\"storey_range\"].head()"
   ]
  },
  {
   "cell_type": "code",
   "execution_count": 58,
   "id": "b017b132-ec93-4525-ba2c-f016306c2322",
   "metadata": {},
   "outputs": [
    {
     "data": {
      "text/html": [
       "<div>\n",
       "<style scoped>\n",
       "    .dataframe tbody tr th:only-of-type {\n",
       "        vertical-align: middle;\n",
       "    }\n",
       "\n",
       "    .dataframe tbody tr th {\n",
       "        vertical-align: top;\n",
       "    }\n",
       "\n",
       "    .dataframe thead th {\n",
       "        text-align: right;\n",
       "    }\n",
       "</style>\n",
       "<table border=\"1\" class=\"dataframe\">\n",
       "  <thead>\n",
       "    <tr style=\"text-align: right;\">\n",
       "      <th></th>\n",
       "      <th>0</th>\n",
       "      <th>1</th>\n",
       "    </tr>\n",
       "  </thead>\n",
       "  <tbody>\n",
       "    <tr>\n",
       "      <th>0</th>\n",
       "      <td>10</td>\n",
       "      <td>12</td>\n",
       "    </tr>\n",
       "    <tr>\n",
       "      <th>1</th>\n",
       "      <td>04</td>\n",
       "      <td>06</td>\n",
       "    </tr>\n",
       "    <tr>\n",
       "      <th>2</th>\n",
       "      <td>10</td>\n",
       "      <td>12</td>\n",
       "    </tr>\n",
       "    <tr>\n",
       "      <th>3</th>\n",
       "      <td>07</td>\n",
       "      <td>09</td>\n",
       "    </tr>\n",
       "    <tr>\n",
       "      <th>4</th>\n",
       "      <td>04</td>\n",
       "      <td>06</td>\n",
       "    </tr>\n",
       "  </tbody>\n",
       "</table>\n",
       "</div>"
      ],
      "text/plain": [
       "    0   1\n",
       "0  10  12\n",
       "1  04  06\n",
       "2  10  12\n",
       "3  07  09\n",
       "4  04  06"
      ]
     },
     "execution_count": 58,
     "metadata": {},
     "output_type": "execute_result"
    }
   ],
   "source": [
    "# Splitting storey range column\n",
    "storey = df[\"storey_range\"].str.split(\" TO \",expand =True)\n",
    "storey.head()"
   ]
  },
  {
   "cell_type": "code",
   "execution_count": 59,
   "id": "99d73e08-f712-48fe-9884-f3f0d9473411",
   "metadata": {},
   "outputs": [],
   "source": [
    "# Creating the storey minimum values as column\n",
    "df.insert(loc = 6,\n",
    "          column = 'storey_min',\n",
    "          value = storey[0])\n",
    "# Creating the storey maximum values as column\n",
    "df.insert(loc = 7,\n",
    "          column = 'storey_max',\n",
    "          value = storey[1])"
   ]
  },
  {
   "cell_type": "code",
   "execution_count": 60,
   "id": "0992b00f-71e2-44af-aa4a-8ab12e7101b8",
   "metadata": {},
   "outputs": [
    {
     "data": {
      "text/html": [
       "<div>\n",
       "<style scoped>\n",
       "    .dataframe tbody tr th:only-of-type {\n",
       "        vertical-align: middle;\n",
       "    }\n",
       "\n",
       "    .dataframe tbody tr th {\n",
       "        vertical-align: top;\n",
       "    }\n",
       "\n",
       "    .dataframe thead th {\n",
       "        text-align: right;\n",
       "    }\n",
       "</style>\n",
       "<table border=\"1\" class=\"dataframe\">\n",
       "  <thead>\n",
       "    <tr style=\"text-align: right;\">\n",
       "      <th></th>\n",
       "      <th>0</th>\n",
       "      <th>1</th>\n",
       "    </tr>\n",
       "  </thead>\n",
       "  <tbody>\n",
       "    <tr>\n",
       "      <th>0</th>\n",
       "      <td>1990</td>\n",
       "      <td>01</td>\n",
       "    </tr>\n",
       "    <tr>\n",
       "      <th>1</th>\n",
       "      <td>1990</td>\n",
       "      <td>01</td>\n",
       "    </tr>\n",
       "    <tr>\n",
       "      <th>2</th>\n",
       "      <td>1990</td>\n",
       "      <td>01</td>\n",
       "    </tr>\n",
       "    <tr>\n",
       "      <th>3</th>\n",
       "      <td>1990</td>\n",
       "      <td>01</td>\n",
       "    </tr>\n",
       "    <tr>\n",
       "      <th>4</th>\n",
       "      <td>1990</td>\n",
       "      <td>01</td>\n",
       "    </tr>\n",
       "  </tbody>\n",
       "</table>\n",
       "</div>"
      ],
      "text/plain": [
       "      0   1\n",
       "0  1990  01\n",
       "1  1990  01\n",
       "2  1990  01\n",
       "3  1990  01\n",
       "4  1990  01"
      ]
     },
     "execution_count": 60,
     "metadata": {},
     "output_type": "execute_result"
    }
   ],
   "source": [
    "# Splitting month column\n",
    "month=df['month'].str.split('-',expand = True)\n",
    "month.head()"
   ]
  },
  {
   "cell_type": "code",
   "execution_count": 61,
   "id": "6c5a6c61-0afb-4bb7-9ef9-f259765da12d",
   "metadata": {},
   "outputs": [],
   "source": [
    "# Creating the year values as column\n",
    "df.insert(loc = 1,\n",
    "          column = 'selling_year',\n",
    "          value = month[0])\n",
    "# Creating the storey maximum values as column\n",
    "df.insert(loc = 2,\n",
    "          column = 'selling_month',\n",
    "          value = month[1])"
   ]
  },
  {
   "cell_type": "code",
   "execution_count": 62,
   "id": "80fa4fb4-c699-4075-a51b-f98d80c66b86",
   "metadata": {},
   "outputs": [
    {
     "data": {
      "text/html": [
       "<div>\n",
       "<style scoped>\n",
       "    .dataframe tbody tr th:only-of-type {\n",
       "        vertical-align: middle;\n",
       "    }\n",
       "\n",
       "    .dataframe tbody tr th {\n",
       "        vertical-align: top;\n",
       "    }\n",
       "\n",
       "    .dataframe thead th {\n",
       "        text-align: right;\n",
       "    }\n",
       "</style>\n",
       "<table border=\"1\" class=\"dataframe\">\n",
       "  <thead>\n",
       "    <tr style=\"text-align: right;\">\n",
       "      <th></th>\n",
       "      <th>month</th>\n",
       "      <th>selling_year</th>\n",
       "      <th>selling_month</th>\n",
       "      <th>town</th>\n",
       "      <th>town_code</th>\n",
       "      <th>flat_type</th>\n",
       "      <th>block</th>\n",
       "      <th>street_name</th>\n",
       "      <th>storey_min</th>\n",
       "      <th>storey_max</th>\n",
       "      <th>storey_range</th>\n",
       "      <th>floor_area_sqm</th>\n",
       "      <th>flat_model</th>\n",
       "      <th>flat_modelcode</th>\n",
       "      <th>lease_commence_date</th>\n",
       "      <th>resale_price</th>\n",
       "    </tr>\n",
       "  </thead>\n",
       "  <tbody>\n",
       "    <tr>\n",
       "      <th>0</th>\n",
       "      <td>1990-01</td>\n",
       "      <td>1990</td>\n",
       "      <td>01</td>\n",
       "      <td>ANG MO KIO</td>\n",
       "      <td>0</td>\n",
       "      <td>1</td>\n",
       "      <td>309</td>\n",
       "      <td>ANG MO KIO AVE 1</td>\n",
       "      <td>10</td>\n",
       "      <td>12</td>\n",
       "      <td>10 TO 12</td>\n",
       "      <td>31.0</td>\n",
       "      <td>improved</td>\n",
       "      <td>5</td>\n",
       "      <td>1977</td>\n",
       "      <td>9000.0</td>\n",
       "    </tr>\n",
       "    <tr>\n",
       "      <th>1</th>\n",
       "      <td>1990-01</td>\n",
       "      <td>1990</td>\n",
       "      <td>01</td>\n",
       "      <td>ANG MO KIO</td>\n",
       "      <td>0</td>\n",
       "      <td>1</td>\n",
       "      <td>309</td>\n",
       "      <td>ANG MO KIO AVE 1</td>\n",
       "      <td>04</td>\n",
       "      <td>06</td>\n",
       "      <td>04 TO 06</td>\n",
       "      <td>31.0</td>\n",
       "      <td>improved</td>\n",
       "      <td>5</td>\n",
       "      <td>1977</td>\n",
       "      <td>6000.0</td>\n",
       "    </tr>\n",
       "    <tr>\n",
       "      <th>2</th>\n",
       "      <td>1990-01</td>\n",
       "      <td>1990</td>\n",
       "      <td>01</td>\n",
       "      <td>ANG MO KIO</td>\n",
       "      <td>0</td>\n",
       "      <td>1</td>\n",
       "      <td>309</td>\n",
       "      <td>ANG MO KIO AVE 1</td>\n",
       "      <td>10</td>\n",
       "      <td>12</td>\n",
       "      <td>10 TO 12</td>\n",
       "      <td>31.0</td>\n",
       "      <td>improved</td>\n",
       "      <td>5</td>\n",
       "      <td>1977</td>\n",
       "      <td>8000.0</td>\n",
       "    </tr>\n",
       "    <tr>\n",
       "      <th>3</th>\n",
       "      <td>1990-01</td>\n",
       "      <td>1990</td>\n",
       "      <td>01</td>\n",
       "      <td>ANG MO KIO</td>\n",
       "      <td>0</td>\n",
       "      <td>1</td>\n",
       "      <td>309</td>\n",
       "      <td>ANG MO KIO AVE 1</td>\n",
       "      <td>07</td>\n",
       "      <td>09</td>\n",
       "      <td>07 TO 09</td>\n",
       "      <td>31.0</td>\n",
       "      <td>improved</td>\n",
       "      <td>5</td>\n",
       "      <td>1977</td>\n",
       "      <td>6000.0</td>\n",
       "    </tr>\n",
       "    <tr>\n",
       "      <th>4</th>\n",
       "      <td>1990-01</td>\n",
       "      <td>1990</td>\n",
       "      <td>01</td>\n",
       "      <td>ANG MO KIO</td>\n",
       "      <td>0</td>\n",
       "      <td>3</td>\n",
       "      <td>216</td>\n",
       "      <td>ANG MO KIO AVE 1</td>\n",
       "      <td>04</td>\n",
       "      <td>06</td>\n",
       "      <td>04 TO 06</td>\n",
       "      <td>73.0</td>\n",
       "      <td>new generation</td>\n",
       "      <td>12</td>\n",
       "      <td>1976</td>\n",
       "      <td>47200.0</td>\n",
       "    </tr>\n",
       "  </tbody>\n",
       "</table>\n",
       "</div>"
      ],
      "text/plain": [
       "     month selling_year selling_month        town  town_code  flat_type block  \\\n",
       "0  1990-01         1990            01  ANG MO KIO          0          1   309   \n",
       "1  1990-01         1990            01  ANG MO KIO          0          1   309   \n",
       "2  1990-01         1990            01  ANG MO KIO          0          1   309   \n",
       "3  1990-01         1990            01  ANG MO KIO          0          1   309   \n",
       "4  1990-01         1990            01  ANG MO KIO          0          3   216   \n",
       "\n",
       "        street_name storey_min storey_max storey_range  floor_area_sqm  \\\n",
       "0  ANG MO KIO AVE 1         10         12     10 TO 12            31.0   \n",
       "1  ANG MO KIO AVE 1         04         06     04 TO 06            31.0   \n",
       "2  ANG MO KIO AVE 1         10         12     10 TO 12            31.0   \n",
       "3  ANG MO KIO AVE 1         07         09     07 TO 09            31.0   \n",
       "4  ANG MO KIO AVE 1         04         06     04 TO 06            73.0   \n",
       "\n",
       "       flat_model  flat_modelcode  lease_commence_date  resale_price  \n",
       "0        improved               5                 1977        9000.0  \n",
       "1        improved               5                 1977        6000.0  \n",
       "2        improved               5                 1977        8000.0  \n",
       "3        improved               5                 1977        6000.0  \n",
       "4  new generation              12                 1976       47200.0  "
      ]
     },
     "execution_count": 62,
     "metadata": {},
     "output_type": "execute_result"
    }
   ],
   "source": [
    "df.head()"
   ]
  },
  {
   "cell_type": "code",
   "execution_count": 65,
   "id": "9ad23569-98c3-4b08-af64-4133974d787a",
   "metadata": {},
   "outputs": [
    {
     "ename": "SyntaxError",
     "evalue": "(unicode error) 'unicodeescape' codec can't decode bytes in position 2-3: truncated \\UXXXXXXXX escape (642408180.py, line 1)",
     "output_type": "error",
     "traceback": [
      "\u001b[1;36m  Cell \u001b[1;32mIn[65], line 1\u001b[1;36m\u001b[0m\n\u001b[1;33m    df.to_csv('C:\\Users\\91701\\Documents\\DS\\Study material\\Python\\Pricedata.csv', index=False)\u001b[0m\n\u001b[1;37m                                                                               ^\u001b[0m\n\u001b[1;31mSyntaxError\u001b[0m\u001b[1;31m:\u001b[0m (unicode error) 'unicodeescape' codec can't decode bytes in position 2-3: truncated \\UXXXXXXXX escape\n"
     ]
    }
   ],
   "source": [
    "df.to_csv('C:\\Users\\91701\\Documents\\DS\\Study material\\Python\\Pricedata.csv', index=False)"
   ]
  },
  {
   "cell_type": "code",
   "execution_count": 66,
   "id": "9d7acb41-32f6-4335-8de4-11c23c95f4ca",
   "metadata": {},
   "outputs": [],
   "source": [
    "#Dealing with datatypes"
   ]
  },
  {
   "cell_type": "code",
   "execution_count": 67,
   "id": "22510fe3-f7cc-4acf-b803-85e642f56ed1",
   "metadata": {},
   "outputs": [
    {
     "data": {
      "text/plain": [
       "month                   object\n",
       "selling_year            object\n",
       "selling_month           object\n",
       "town                    object\n",
       "town_code                int32\n",
       "flat_type                int64\n",
       "block                   object\n",
       "street_name             object\n",
       "storey_min              object\n",
       "storey_max              object\n",
       "storey_range            object\n",
       "floor_area_sqm         float64\n",
       "flat_model              object\n",
       "flat_modelcode           int32\n",
       "lease_commence_date      int64\n",
       "resale_price           float64\n",
       "dtype: object"
      ]
     },
     "execution_count": 67,
     "metadata": {},
     "output_type": "execute_result"
    }
   ],
   "source": [
    "# Datatyppe of the columns\n",
    "df.dtypes"
   ]
  },
  {
   "cell_type": "code",
   "execution_count": 68,
   "id": "151edce8-ce04-4795-8887-54db3ccb0483",
   "metadata": {},
   "outputs": [],
   "source": [
    "# Changing the datatype of numeric columns\n",
    "df[['selling_year','selling_month','storey_min','storey_max']] = df[['selling_year','selling_month','storey_min','storey_max']].astype('int')"
   ]
  },
  {
   "cell_type": "code",
   "execution_count": 69,
   "id": "d07b1870-9099-4252-bbcb-44ebf3602517",
   "metadata": {},
   "outputs": [
    {
     "data": {
      "text/plain": [
       "month                   object\n",
       "selling_year             int32\n",
       "selling_month            int32\n",
       "town                    object\n",
       "town_code                int32\n",
       "flat_type                int64\n",
       "block                   object\n",
       "street_name             object\n",
       "storey_min               int32\n",
       "storey_max               int32\n",
       "storey_range            object\n",
       "floor_area_sqm         float64\n",
       "flat_model              object\n",
       "flat_modelcode           int32\n",
       "lease_commence_date      int64\n",
       "resale_price           float64\n",
       "dtype: object"
      ]
     },
     "execution_count": 69,
     "metadata": {},
     "output_type": "execute_result"
    }
   ],
   "source": [
    "df.dtypes"
   ]
  },
  {
   "cell_type": "code",
   "execution_count": 70,
   "id": "5c3d0e7e-75fe-44ad-b6f1-94a7ebd8f8c5",
   "metadata": {},
   "outputs": [
    {
     "data": {
      "text/plain": [
       "<Axes: >"
      ]
     },
     "execution_count": 70,
     "metadata": {},
     "output_type": "execute_result"
    },
    {
     "data": {
      "image/png": "[encoded data removed]",
      "text/plain": [
       "<Figure size 640x480 with 2 Axes>"
      ]
     },
     "metadata": {},
     "output_type": "display_data"
    }
   ],
   "source": [
    "# Correlation for the feature\n",
    "corr_df = df[['selling_year','selling_month','town_code','flat_type','storey_min','storey_max','floor_area_sqm','flat_modelcode','lease_commence_date','resale_price']].dropna().corr()\n",
    "sns.heatmap(corr_df, annot = True)"
   ]
  },
  {
   "cell_type": "code",
   "execution_count": 71,
   "id": "a6950094-4bb0-4401-a770-1526133e5623",
   "metadata": {},
   "outputs": [],
   "source": [
    "#Training the model"
   ]
  },
  {
   "cell_type": "code",
   "execution_count": 72,
   "id": "f9b37e5a-2ed5-4087-b387-8f7fd248015c",
   "metadata": {},
   "outputs": [],
   "source": [
    "# Assigning the data\n",
    "X = df[['selling_year','selling_month','town_code','flat_type','storey_min','storey_max','floor_area_sqm','flat_modelcode','lease_commence_date']]\n",
    "y = df['resale_price']"
   ]
  },
  {
   "cell_type": "code",
   "execution_count": 74,
   "id": "81374266-b74a-4023-95bf-5642138f314f",
   "metadata": {},
   "outputs": [
    {
     "data": {
      "text/html": [
       "<div>\n",
       "<style scoped>\n",
       "    .dataframe tbody tr th:only-of-type {\n",
       "        vertical-align: middle;\n",
       "    }\n",
       "\n",
       "    .dataframe tbody tr th {\n",
       "        vertical-align: top;\n",
       "    }\n",
       "\n",
       "    .dataframe thead th {\n",
       "        text-align: right;\n",
       "    }\n",
       "</style>\n",
       "<table border=\"1\" class=\"dataframe\">\n",
       "  <thead>\n",
       "    <tr style=\"text-align: right;\">\n",
       "      <th></th>\n",
       "      <th>selling_year</th>\n",
       "      <th>selling_month</th>\n",
       "      <th>town_code</th>\n",
       "      <th>flat_type</th>\n",
       "      <th>storey_min</th>\n",
       "      <th>storey_max</th>\n",
       "      <th>floor_area_sqm</th>\n",
       "      <th>flat_modelcode</th>\n",
       "      <th>lease_commence_date</th>\n",
       "    </tr>\n",
       "  </thead>\n",
       "  <tbody>\n",
       "    <tr>\n",
       "      <th>0</th>\n",
       "      <td>1990</td>\n",
       "      <td>1</td>\n",
       "      <td>0</td>\n",
       "      <td>1</td>\n",
       "      <td>10</td>\n",
       "      <td>12</td>\n",
       "      <td>31.0</td>\n",
       "      <td>5</td>\n",
       "      <td>1977</td>\n",
       "    </tr>\n",
       "    <tr>\n",
       "      <th>1</th>\n",
       "      <td>1990</td>\n",
       "      <td>1</td>\n",
       "      <td>0</td>\n",
       "      <td>1</td>\n",
       "      <td>4</td>\n",
       "      <td>6</td>\n",
       "      <td>31.0</td>\n",
       "      <td>5</td>\n",
       "      <td>1977</td>\n",
       "    </tr>\n",
       "    <tr>\n",
       "      <th>2</th>\n",
       "      <td>1990</td>\n",
       "      <td>1</td>\n",
       "      <td>0</td>\n",
       "      <td>1</td>\n",
       "      <td>10</td>\n",
       "      <td>12</td>\n",
       "      <td>31.0</td>\n",
       "      <td>5</td>\n",
       "      <td>1977</td>\n",
       "    </tr>\n",
       "    <tr>\n",
       "      <th>3</th>\n",
       "      <td>1990</td>\n",
       "      <td>1</td>\n",
       "      <td>0</td>\n",
       "      <td>1</td>\n",
       "      <td>7</td>\n",
       "      <td>9</td>\n",
       "      <td>31.0</td>\n",
       "      <td>5</td>\n",
       "      <td>1977</td>\n",
       "    </tr>\n",
       "    <tr>\n",
       "      <th>4</th>\n",
       "      <td>1990</td>\n",
       "      <td>1</td>\n",
       "      <td>0</td>\n",
       "      <td>3</td>\n",
       "      <td>4</td>\n",
       "      <td>6</td>\n",
       "      <td>73.0</td>\n",
       "      <td>12</td>\n",
       "      <td>1976</td>\n",
       "    </tr>\n",
       "    <tr>\n",
       "      <th>...</th>\n",
       "      <td>...</td>\n",
       "      <td>...</td>\n",
       "      <td>...</td>\n",
       "      <td>...</td>\n",
       "      <td>...</td>\n",
       "      <td>...</td>\n",
       "      <td>...</td>\n",
       "      <td>...</td>\n",
       "      <td>...</td>\n",
       "    </tr>\n",
       "    <tr>\n",
       "      <th>920236</th>\n",
       "      <td>2024</td>\n",
       "      <td>3</td>\n",
       "      <td>26</td>\n",
       "      <td>4</td>\n",
       "      <td>13</td>\n",
       "      <td>15</td>\n",
       "      <td>93.0</td>\n",
       "      <td>8</td>\n",
       "      <td>2018</td>\n",
       "    </tr>\n",
       "    <tr>\n",
       "      <th>920237</th>\n",
       "      <td>2024</td>\n",
       "      <td>3</td>\n",
       "      <td>26</td>\n",
       "      <td>4</td>\n",
       "      <td>1</td>\n",
       "      <td>3</td>\n",
       "      <td>104.0</td>\n",
       "      <td>8</td>\n",
       "      <td>1988</td>\n",
       "    </tr>\n",
       "    <tr>\n",
       "      <th>920238</th>\n",
       "      <td>2024</td>\n",
       "      <td>3</td>\n",
       "      <td>26</td>\n",
       "      <td>5</td>\n",
       "      <td>4</td>\n",
       "      <td>6</td>\n",
       "      <td>112.0</td>\n",
       "      <td>5</td>\n",
       "      <td>2015</td>\n",
       "    </tr>\n",
       "    <tr>\n",
       "      <th>920239</th>\n",
       "      <td>2024</td>\n",
       "      <td>3</td>\n",
       "      <td>26</td>\n",
       "      <td>5</td>\n",
       "      <td>10</td>\n",
       "      <td>12</td>\n",
       "      <td>121.0</td>\n",
       "      <td>5</td>\n",
       "      <td>1987</td>\n",
       "    </tr>\n",
       "    <tr>\n",
       "      <th>920240</th>\n",
       "      <td>2024</td>\n",
       "      <td>3</td>\n",
       "      <td>26</td>\n",
       "      <td>6</td>\n",
       "      <td>10</td>\n",
       "      <td>12</td>\n",
       "      <td>146.0</td>\n",
       "      <td>3</td>\n",
       "      <td>1987</td>\n",
       "    </tr>\n",
       "  </tbody>\n",
       "</table>\n",
       "<p>920241 rows × 9 columns</p>\n",
       "</div>"
      ],
      "text/plain": [
       "        selling_year  selling_month  town_code  flat_type  storey_min  \\\n",
       "0               1990              1          0          1          10   \n",
       "1               1990              1          0          1           4   \n",
       "2               1990              1          0          1          10   \n",
       "3               1990              1          0          1           7   \n",
       "4               1990              1          0          3           4   \n",
       "...              ...            ...        ...        ...         ...   \n",
       "920236          2024              3         26          4          13   \n",
       "920237          2024              3         26          4           1   \n",
       "920238          2024              3         26          5           4   \n",
       "920239          2024              3         26          5          10   \n",
       "920240          2024              3         26          6          10   \n",
       "\n",
       "        storey_max  floor_area_sqm  flat_modelcode  lease_commence_date  \n",
       "0               12            31.0               5                 1977  \n",
       "1                6            31.0               5                 1977  \n",
       "2               12            31.0               5                 1977  \n",
       "3                9            31.0               5                 1977  \n",
       "4                6            73.0              12                 1976  \n",
       "...            ...             ...             ...                  ...  \n",
       "920236          15            93.0               8                 2018  \n",
       "920237           3           104.0               8                 1988  \n",
       "920238           6           112.0               5                 2015  \n",
       "920239          12           121.0               5                 1987  \n",
       "920240          12           146.0               3                 1987  \n",
       "\n",
       "[920241 rows x 9 columns]"
      ]
     },
     "execution_count": 74,
     "metadata": {},
     "output_type": "execute_result"
    }
   ],
   "source": [
    "X"
   ]
  },
  {
   "cell_type": "code",
   "execution_count": 75,
   "id": "27003484-a8d1-477f-a8ce-1621e69b9800",
   "metadata": {},
   "outputs": [],
   "source": [
    "# Splitting the data\n",
    "# Importing the split\n",
    "from sklearn.model_selection import train_test_split\n",
    "\n",
    "# Objecting the split data\n",
    "X_train, X_test, y_train, y_test = train_test_split(X, y, test_size = 0.33, random_state = 42)"
   ]
  },
  {
   "cell_type": "code",
   "execution_count": 76,
   "id": "9d1b033b-127c-4ee0-be4f-421965e11bbf",
   "metadata": {},
   "outputs": [],
   "source": [
    "#Linear Regression"
   ]
  },
  {
   "cell_type": "code",
   "execution_count": 78,
   "id": "4972106a-084b-4064-9652-eb4196c90040",
   "metadata": {},
   "outputs": [
    {
     "data": {
      "text/html": [
       "<style>#sk-container-id-2 {color: black;}#sk-container-id-2 pre{padding: 0;}#sk-container-id-2 div.sk-toggleable {background-color: white;}#sk-container-id-2 label.sk-toggleable__label {cursor: pointer;display: block;width: 100%;margin-bottom: 0;padding: 0.3em;box-sizing: border-box;text-align: center;}#sk-container-id-2 label.sk-toggleable__label-arrow:before {content: \"▸\";float: left;margin-right: 0.25em;color: #696969;}#sk-container-id-2 label.sk-toggleable__label-arrow:hover:before {color: black;}#sk-container-id-2 div.sk-estimator:hover label.sk-toggleable__label-arrow:before {color: black;}#sk-container-id-2 div.sk-toggleable__content {max-height: 0;max-width: 0;overflow: hidden;text-align: left;background-color: #f0f8ff;}#sk-container-id-2 div.sk-toggleable__content pre {margin: 0.2em;color: black;border-radius: 0.25em;background-color: #f0f8ff;}#sk-container-id-2 input.sk-toggleable__control:checked~div.sk-toggleable__content {max-height: 200px;max-width: 100%;overflow: auto;}#sk-container-id-2 input.sk-toggleable__control:checked~label.sk-toggleable__label-arrow:before {content: \"▾\";}#sk-container-id-2 div.sk-estimator input.sk-toggleable__control:checked~label.sk-toggleable__label {background-color: #d4ebff;}#sk-container-id-2 div.sk-label input.sk-toggleable__control:checked~label.sk-toggleable__label {background-color: #d4ebff;}#sk-container-id-2 input.sk-hidden--visually {border: 0;clip: rect(1px 1px 1px 1px);clip: rect(1px, 1px, 1px, 1px);height: 1px;margin: -1px;overflow: hidden;padding: 0;position: absolute;width: 1px;}#sk-container-id-2 div.sk-estimator {font-family: monospace;background-color: #f0f8ff;border: 1px dotted black;border-radius: 0.25em;box-sizing: border-box;margin-bottom: 0.5em;}#sk-container-id-2 div.sk-estimator:hover {background-color: #d4ebff;}#sk-container-id-2 div.sk-parallel-item::after {content: \"\";width: 100%;border-bottom: 1px solid gray;flex-grow: 1;}#sk-container-id-2 div.sk-label:hover label.sk-toggleable__label {background-color: #d4ebff;}#sk-container-id-2 div.sk-serial::before {content: \"\";position: absolute;border-left: 1px solid gray;box-sizing: border-box;top: 0;bottom: 0;left: 50%;z-index: 0;}#sk-container-id-2 div.sk-serial {display: flex;flex-direction: column;align-items: center;background-color: white;padding-right: 0.2em;padding-left: 0.2em;position: relative;}#sk-container-id-2 div.sk-item {position: relative;z-index: 1;}#sk-container-id-2 div.sk-parallel {display: flex;align-items: stretch;justify-content: center;background-color: white;position: relative;}#sk-container-id-2 div.sk-item::before, #sk-container-id-2 div.sk-parallel-item::before {content: \"\";position: absolute;border-left: 1px solid gray;box-sizing: border-box;top: 0;bottom: 0;left: 50%;z-index: -1;}#sk-container-id-2 div.sk-parallel-item {display: flex;flex-direction: column;z-index: 1;position: relative;background-color: white;}#sk-container-id-2 div.sk-parallel-item:first-child::after {align-self: flex-end;width: 50%;}#sk-container-id-2 div.sk-parallel-item:last-child::after {align-self: flex-start;width: 50%;}#sk-container-id-2 div.sk-parallel-item:only-child::after {width: 0;}#sk-container-id-2 div.sk-dashed-wrapped {border: 1px dashed gray;margin: 0 0.4em 0.5em 0.4em;box-sizing: border-box;padding-bottom: 0.4em;background-color: white;}#sk-container-id-2 div.sk-label label {font-family: monospace;font-weight: bold;display: inline-block;line-height: 1.2em;}#sk-container-id-2 div.sk-label-container {text-align: center;}#sk-container-id-2 div.sk-container {/* jupyter's `normalize.less` sets `[hidden] { display: none; }` but bootstrap.min.css set `[hidden] { display: none !important; }` so we also need the `!important` here to be able to override the default hidden behavior on the sphinx rendered scikit-learn.org. See: https://github.com/scikit-learn/scikit-learn/issues/21755 */display: inline-block !important;position: relative;}#sk-container-id-2 div.sk-text-repr-fallback {display: none;}</style><div id=\"sk-container-id-2\" class=\"sk-top-container\"><div class=\"sk-text-repr-fallback\"><pre>LinearRegression()</pre><b>In a Jupyter environment, please rerun this cell to show the HTML representation or trust the notebook. <br />On GitHub, the HTML representation is unable to render, please try loading this page with nbviewer.org.</b></div><div class=\"sk-container\" hidden><div class=\"sk-item\"><div class=\"sk-estimator sk-toggleable\"><input class=\"sk-toggleable__control sk-hidden--visually\" id=\"sk-estimator-id-2\" type=\"checkbox\" checked><label for=\"sk-estimator-id-2\" class=\"sk-toggleable__label sk-toggleable__label-arrow\">LinearRegression</label><div class=\"sk-toggleable__content\"><pre>LinearRegression()</pre></div></div></div></div></div>"
      ],
      "text/plain": [
       "LinearRegression()"
      ]
     },
     "execution_count": 78,
     "metadata": {},
     "output_type": "execute_result"
    }
   ],
   "source": [
    "# Create a regressor\n",
    "from sklearn.linear_model import LinearRegression\n",
    "\n",
    "# Create a regressor object\n",
    "lin_reg = LinearRegression()\n",
    "\n",
    "# fit the model with X-train and y_train data\n",
    "lin_reg.fit(X_train,y_train)"
   ]
  },
  {
   "cell_type": "code",
   "execution_count": 79,
   "id": "ad5952bd-3126-4a9a-b7c2-2a598132a695",
   "metadata": {},
   "outputs": [
    {
     "name": "stdout",
     "output_type": "stream",
     "text": [
      "76.16844732580252 %\n"
     ]
    }
   ],
   "source": [
    "# Accuracy score of the model\n",
    "score = lin_reg.score(X_test,y_test)\n",
    "print(score * 100,\"%\")"
   ]
  },
  {
   "cell_type": "code",
   "execution_count": 80,
   "id": "5c1372bb-6e91-41a2-ae83-0aa36f7a6579",
   "metadata": {},
   "outputs": [],
   "source": [
    "#Decision Tree Regressor"
   ]
  },
  {
   "cell_type": "code",
   "execution_count": 81,
   "id": "384725bb-f86f-4e40-8e1b-f1a8e0380ee0",
   "metadata": {},
   "outputs": [
    {
     "data": {
      "text/html": [
       "<style>#sk-container-id-3 {color: black;}#sk-container-id-3 pre{padding: 0;}#sk-container-id-3 div.sk-toggleable {background-color: white;}#sk-container-id-3 label.sk-toggleable__label {cursor: pointer;display: block;width: 100%;margin-bottom: 0;padding: 0.3em;box-sizing: border-box;text-align: center;}#sk-container-id-3 label.sk-toggleable__label-arrow:before {content: \"▸\";float: left;margin-right: 0.25em;color: #696969;}#sk-container-id-3 label.sk-toggleable__label-arrow:hover:before {color: black;}#sk-container-id-3 div.sk-estimator:hover label.sk-toggleable__label-arrow:before {color: black;}#sk-container-id-3 div.sk-toggleable__content {max-height: 0;max-width: 0;overflow: hidden;text-align: left;background-color: #f0f8ff;}#sk-container-id-3 div.sk-toggleable__content pre {margin: 0.2em;color: black;border-radius: 0.25em;background-color: #f0f8ff;}#sk-container-id-3 input.sk-toggleable__control:checked~div.sk-toggleable__content {max-height: 200px;max-width: 100%;overflow: auto;}#sk-container-id-3 input.sk-toggleable__control:checked~label.sk-toggleable__label-arrow:before {content: \"▾\";}#sk-container-id-3 div.sk-estimator input.sk-toggleable__control:checked~label.sk-toggleable__label {background-color: #d4ebff;}#sk-container-id-3 div.sk-label input.sk-toggleable__control:checked~label.sk-toggleable__label {background-color: #d4ebff;}#sk-container-id-3 input.sk-hidden--visually {border: 0;clip: rect(1px 1px 1px 1px);clip: rect(1px, 1px, 1px, 1px);height: 1px;margin: -1px;overflow: hidden;padding: 0;position: absolute;width: 1px;}#sk-container-id-3 div.sk-estimator {font-family: monospace;background-color: #f0f8ff;border: 1px dotted black;border-radius: 0.25em;box-sizing: border-box;margin-bottom: 0.5em;}#sk-container-id-3 div.sk-estimator:hover {background-color: #d4ebff;}#sk-container-id-3 div.sk-parallel-item::after {content: \"\";width: 100%;border-bottom: 1px solid gray;flex-grow: 1;}#sk-container-id-3 div.sk-label:hover label.sk-toggleable__label {background-color: #d4ebff;}#sk-container-id-3 div.sk-serial::before {content: \"\";position: absolute;border-left: 1px solid gray;box-sizing: border-box;top: 0;bottom: 0;left: 50%;z-index: 0;}#sk-container-id-3 div.sk-serial {display: flex;flex-direction: column;align-items: center;background-color: white;padding-right: 0.2em;padding-left: 0.2em;position: relative;}#sk-container-id-3 div.sk-item {position: relative;z-index: 1;}#sk-container-id-3 div.sk-parallel {display: flex;align-items: stretch;justify-content: center;background-color: white;position: relative;}#sk-container-id-3 div.sk-item::before, #sk-container-id-3 div.sk-parallel-item::before {content: \"\";position: absolute;border-left: 1px solid gray;box-sizing: border-box;top: 0;bottom: 0;left: 50%;z-index: -1;}#sk-container-id-3 div.sk-parallel-item {display: flex;flex-direction: column;z-index: 1;position: relative;background-color: white;}#sk-container-id-3 div.sk-parallel-item:first-child::after {align-self: flex-end;width: 50%;}#sk-container-id-3 div.sk-parallel-item:last-child::after {align-self: flex-start;width: 50%;}#sk-container-id-3 div.sk-parallel-item:only-child::after {width: 0;}#sk-container-id-3 div.sk-dashed-wrapped {border: 1px dashed gray;margin: 0 0.4em 0.5em 0.4em;box-sizing: border-box;padding-bottom: 0.4em;background-color: white;}#sk-container-id-3 div.sk-label label {font-family: monospace;font-weight: bold;display: inline-block;line-height: 1.2em;}#sk-container-id-3 div.sk-label-container {text-align: center;}#sk-container-id-3 div.sk-container {/* jupyter's `normalize.less` sets `[hidden] { display: none; }` but bootstrap.min.css set `[hidden] { display: none !important; }` so we also need the `!important` here to be able to override the default hidden behavior on the sphinx rendered scikit-learn.org. See: https://github.com/scikit-learn/scikit-learn/issues/21755 */display: inline-block !important;position: relative;}#sk-container-id-3 div.sk-text-repr-fallback {display: none;}</style><div id=\"sk-container-id-3\" class=\"sk-top-container\"><div class=\"sk-text-repr-fallback\"><pre>DecisionTreeRegressor(random_state=0)</pre><b>In a Jupyter environment, please rerun this cell to show the HTML representation or trust the notebook. <br />On GitHub, the HTML representation is unable to render, please try loading this page with nbviewer.org.</b></div><div class=\"sk-container\" hidden><div class=\"sk-item\"><div class=\"sk-estimator sk-toggleable\"><input class=\"sk-toggleable__control sk-hidden--visually\" id=\"sk-estimator-id-3\" type=\"checkbox\" checked><label for=\"sk-estimator-id-3\" class=\"sk-toggleable__label sk-toggleable__label-arrow\">DecisionTreeRegressor</label><div class=\"sk-toggleable__content\"><pre>DecisionTreeRegressor(random_state=0)</pre></div></div></div></div></div>"
      ],
      "text/plain": [
       "DecisionTreeRegressor(random_state=0)"
      ]
     },
     "execution_count": 81,
     "metadata": {},
     "output_type": "execute_result"
    }
   ],
   "source": [
    "# import the regressor \n",
    "from sklearn.tree import DecisionTreeRegressor  \n",
    "  \n",
    "# create a regressor object \n",
    "Dt_reg = DecisionTreeRegressor(random_state = 0)  \n",
    "  \n",
    "# fit the model with X-train and y_train data \n",
    "Dt_reg.fit(X_train, y_train)"
   ]
  },
  {
   "cell_type": "code",
   "execution_count": 83,
   "id": "450bb53a-0824-49f2-b346-a13891b62a00",
   "metadata": {},
   "outputs": [
    {
     "name": "stdout",
     "output_type": "stream",
     "text": [
      "96.02013472446598 %\n"
     ]
    }
   ],
   "source": [
    "# Accuracy of the model\n",
    "score = Dt_reg.score(X_test,y_test)\n",
    "print(score * 100,\"%\")"
   ]
  },
  {
   "cell_type": "code",
   "execution_count": 84,
   "id": "6586611a-7e4b-4b19-bf0e-47c2b563ce19",
   "metadata": {},
   "outputs": [],
   "source": [
    "#Random Forest Regressor"
   ]
  },
  {
   "cell_type": "code",
   "execution_count": 85,
   "id": "7f8f6ada-2afa-43fb-b767-fbaced406112",
   "metadata": {},
   "outputs": [
    {
     "data": {
      "text/html": [
       "<style>#sk-container-id-4 {color: black;}#sk-container-id-4 pre{padding: 0;}#sk-container-id-4 div.sk-toggleable {background-color: white;}#sk-container-id-4 label.sk-toggleable__label {cursor: pointer;display: block;width: 100%;margin-bottom: 0;padding: 0.3em;box-sizing: border-box;text-align: center;}#sk-container-id-4 label.sk-toggleable__label-arrow:before {content: \"▸\";float: left;margin-right: 0.25em;color: #696969;}#sk-container-id-4 label.sk-toggleable__label-arrow:hover:before {color: black;}#sk-container-id-4 div.sk-estimator:hover label.sk-toggleable__label-arrow:before {color: black;}#sk-container-id-4 div.sk-toggleable__content {max-height: 0;max-width: 0;overflow: hidden;text-align: left;background-color: #f0f8ff;}#sk-container-id-4 div.sk-toggleable__content pre {margin: 0.2em;color: black;border-radius: 0.25em;background-color: #f0f8ff;}#sk-container-id-4 input.sk-toggleable__control:checked~div.sk-toggleable__content {max-height: 200px;max-width: 100%;overflow: auto;}#sk-container-id-4 input.sk-toggleable__control:checked~label.sk-toggleable__label-arrow:before {content: \"▾\";}#sk-container-id-4 div.sk-estimator input.sk-toggleable__control:checked~label.sk-toggleable__label {background-color: #d4ebff;}#sk-container-id-4 div.sk-label input.sk-toggleable__control:checked~label.sk-toggleable__label {background-color: #d4ebff;}#sk-container-id-4 input.sk-hidden--visually {border: 0;clip: rect(1px 1px 1px 1px);clip: rect(1px, 1px, 1px, 1px);height: 1px;margin: -1px;overflow: hidden;padding: 0;position: absolute;width: 1px;}#sk-container-id-4 div.sk-estimator {font-family: monospace;background-color: #f0f8ff;border: 1px dotted black;border-radius: 0.25em;box-sizing: border-box;margin-bottom: 0.5em;}#sk-container-id-4 div.sk-estimator:hover {background-color: #d4ebff;}#sk-container-id-4 div.sk-parallel-item::after {content: \"\";width: 100%;border-bottom: 1px solid gray;flex-grow: 1;}#sk-container-id-4 div.sk-label:hover label.sk-toggleable__label {background-color: #d4ebff;}#sk-container-id-4 div.sk-serial::before {content: \"\";position: absolute;border-left: 1px solid gray;box-sizing: border-box;top: 0;bottom: 0;left: 50%;z-index: 0;}#sk-container-id-4 div.sk-serial {display: flex;flex-direction: column;align-items: center;background-color: white;padding-right: 0.2em;padding-left: 0.2em;position: relative;}#sk-container-id-4 div.sk-item {position: relative;z-index: 1;}#sk-container-id-4 div.sk-parallel {display: flex;align-items: stretch;justify-content: center;background-color: white;position: relative;}#sk-container-id-4 div.sk-item::before, #sk-container-id-4 div.sk-parallel-item::before {content: \"\";position: absolute;border-left: 1px solid gray;box-sizing: border-box;top: 0;bottom: 0;left: 50%;z-index: -1;}#sk-container-id-4 div.sk-parallel-item {display: flex;flex-direction: column;z-index: 1;position: relative;background-color: white;}#sk-container-id-4 div.sk-parallel-item:first-child::after {align-self: flex-end;width: 50%;}#sk-container-id-4 div.sk-parallel-item:last-child::after {align-self: flex-start;width: 50%;}#sk-container-id-4 div.sk-parallel-item:only-child::after {width: 0;}#sk-container-id-4 div.sk-dashed-wrapped {border: 1px dashed gray;margin: 0 0.4em 0.5em 0.4em;box-sizing: border-box;padding-bottom: 0.4em;background-color: white;}#sk-container-id-4 div.sk-label label {font-family: monospace;font-weight: bold;display: inline-block;line-height: 1.2em;}#sk-container-id-4 div.sk-label-container {text-align: center;}#sk-container-id-4 div.sk-container {/* jupyter's `normalize.less` sets `[hidden] { display: none; }` but bootstrap.min.css set `[hidden] { display: none !important; }` so we also need the `!important` here to be able to override the default hidden behavior on the sphinx rendered scikit-learn.org. See: https://github.com/scikit-learn/scikit-learn/issues/21755 */display: inline-block !important;position: relative;}#sk-container-id-4 div.sk-text-repr-fallback {display: none;}</style><div id=\"sk-container-id-4\" class=\"sk-top-container\"><div class=\"sk-text-repr-fallback\"><pre>RandomForestRegressor(random_state=0)</pre><b>In a Jupyter environment, please rerun this cell to show the HTML representation or trust the notebook. <br />On GitHub, the HTML representation is unable to render, please try loading this page with nbviewer.org.</b></div><div class=\"sk-container\" hidden><div class=\"sk-item\"><div class=\"sk-estimator sk-toggleable\"><input class=\"sk-toggleable__control sk-hidden--visually\" id=\"sk-estimator-id-4\" type=\"checkbox\" checked><label for=\"sk-estimator-id-4\" class=\"sk-toggleable__label sk-toggleable__label-arrow\">RandomForestRegressor</label><div class=\"sk-toggleable__content\"><pre>RandomForestRegressor(random_state=0)</pre></div></div></div></div></div>"
      ],
      "text/plain": [
       "RandomForestRegressor(random_state=0)"
      ]
     },
     "execution_count": 85,
     "metadata": {},
     "output_type": "execute_result"
    }
   ],
   "source": [
    "# Create a regressor\n",
    "from sklearn.ensemble import RandomForestRegressor\n",
    "\n",
    "# Create a regressor object\n",
    "rf_reg = RandomForestRegressor(n_estimators=100, random_state=0)\n",
    "\n",
    "# fit the model with X-train and y_train data\n",
    "rf_reg.fit(X_train, y_train)"
   ]
  },
  {
   "cell_type": "code",
   "execution_count": 86,
   "id": "4f0ce911-83ef-40c8-9e6c-22fdabf20f48",
   "metadata": {},
   "outputs": [],
   "source": [
    "#Pickling the random forest trained knowledge to build streamlit ML model web page"
   ]
  },
  {
   "cell_type": "code",
   "execution_count": 87,
   "id": "4048156a-67a7-4980-be9a-f4d729833b4b",
   "metadata": {},
   "outputs": [],
   "source": [
    "# Pickling the trained model\n",
    "# Importing the pickle package\n",
    "import pickle\n",
    "\n",
    "with open(\"resale_rfr.pkl\",\"wb\") as files:\n",
    "  pickle.dump(rf_reg, files)"
   ]
  },
  {
   "cell_type": "code",
   "execution_count": 88,
   "id": "84960c1b-660f-4218-9375-0c92054c3958",
   "metadata": {},
   "outputs": [],
   "source": [
    "with open('resale_rfr.pkl', 'rb') as file:\n",
    "    loaded_model = pickle.load(file)"
   ]
  },
  {
   "cell_type": "code",
   "execution_count": 89,
   "id": "54bd1b03-c582-49e7-b6ab-331ab1843142",
   "metadata": {},
   "outputs": [
    {
     "name": "stdout",
     "output_type": "stream",
     "text": [
      "Prediction: [585930.]\n"
     ]
    }
   ],
   "source": [
    "sample_data = ([[2019,12,0,1,10,12,115,5,2000]])\n",
    "prediction = loaded_model.predict(sample_data)\n",
    "\n",
    "# Display the prediction\n",
    "print(\"Prediction:\", prediction)"
   ]
  },
  {
   "cell_type": "code",
   "execution_count": 90,
   "id": "187f2866-733f-4537-a7eb-ac23013908d4",
   "metadata": {},
   "outputs": [
    {
     "name": "stdout",
     "output_type": "stream",
     "text": [
      "Prediction: [553810.]\n"
     ]
    }
   ],
   "source": [
    "sample_data1 = ([[2019,1,1,2,10,12,'115.0',2,2000]])\n",
    "predict = rf_reg.predict(sample_data1)\n",
    "\n",
    "# Display the prediction\n",
    "print(\"Prediction:\", predict)"
   ]
  },
  {
   "cell_type": "code",
   "execution_count": 91,
   "id": "4edb0ad5-b9fd-4b48-9efd-783c7cbd8f13",
   "metadata": {},
   "outputs": [
    {
     "name": "stdout",
     "output_type": "stream",
     "text": [
      "Prediction: [795000.]\n"
     ]
    }
   ],
   "source": [
    "sample_data1 = ([[2024,1,26,6,4,6,146.0,5,1988]])\n",
    "dtpredict = Dt_reg.predict(sample_data1)\n",
    "\n",
    "# Display the prediction\n",
    "print(\"Prediction:\", dtpredict)"
   ]
  },
  {
   "cell_type": "code",
   "execution_count": null,
   "id": "040232d7-4b1c-4414-92f6-a6dec1009a3f",
   "metadata": {},
   "outputs": [],
   "source": []
  }
 ],
 "metadata": {
  "kernelspec": {
   "display_name": "Python 3 (ipykernel)",
   "language": "python",
   "name": "python3"
  },
  "language_info": {
   "codemirror_mode": {
    "name": "ipython",
    "version": 3
   },
   "file_extension": ".py",
   "mimetype": "text/x-python",
   "name": "python",
   "nbconvert_exporter": "python",
   "pygments_lexer": "ipython3",
   "version": "3.10.11"
  }
 },
 "nbformat": 4,
 "nbformat_minor": 5
}
